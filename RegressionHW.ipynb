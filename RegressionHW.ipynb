{
  "cells": [
    {
      "cell_type": "markdown",
      "metadata": {
        "id": "MontscK7i-OX"
      },
      "source": [
        "## Assignment 2 Regression\n",
        "### CS450 Spring 2023\n",
        "\n",
        "We will not use a grading script for this assignment, but the grading criteria is explained in the instructions.\n",
        "If you are having issues with inconsistent results, try setting seeds. If you find a seed that works for you, keep it in your code so we can see the results you expect us to see when we look at your code."
      ]
    },
    {
      "cell_type": "markdown",
      "source": [
        "## Step 1 \n",
        "**Save a copy in your Drive**"
      ],
      "metadata": {
        "id": "vFM9qtFNTFOI"
      }
    },
    {
      "cell_type": "markdown",
      "metadata": {
        "id": "_cCoM_QBi-Oa"
      },
      "source": [
        "Student Name: Maxine Mayor\n",
        "<br>If you used pair programming..\n",
        "<br>Programming Partner:\n"
      ]
    },
    {
      "cell_type": "markdown",
      "metadata": {
        "id": "PyKe4auVi-Ob"
      },
      "source": [
        "## Problem 1 (20 points)\n",
        "### Simple Linear Regression\n",
        "The purpose of this exercise is to implement a simple linear regression from scratch.\n",
        "Do not use a library to implement it.\n",
        "You will generate synthetic data using the linear equation y = 50x + 22\n",
        "The synthetic data will have some random variation to make the problem interesting. \n",
        "* Grading Criteria: The result of your regression should round to the orginal equation. It is not expected to be perfect.\n",
        "* I have a sample notebook that I will be going over in class. That will get you 80% through problem 1"
      ]
    },
    {
      "cell_type": "markdown",
      "metadata": {
        "id": "x_Yhit-Oi-Ob"
      },
      "source": [
        "### Part 1 - Generate Data\n",
        "1. Randomly select 20 X values between 0 and 100. Use a uniform distribution.\n",
        "2. Calculate Y values using 50x + 22 + RANDOM_VARIATION\n",
        "        2.1 The random variation is because we don't want it to be perfect\n",
        "        2.2 Use a normal distribution with values between -1 and 1 "
      ]
    },
    {
      "cell_type": "code",
      "source": [
        "import numpy as np"
      ],
      "metadata": {
        "id": "gp9BuzTRXfAw"
      },
      "execution_count": 1,
      "outputs": []
    },
    {
      "cell_type": "code",
      "execution_count": 2,
      "metadata": {
        "id": "Kbke7EV9i-Oc",
        "colab": {
          "base_uri": "https://localhost:8080/"
        },
        "outputId": "860f7823-a5b3-474b-f01a-b42b1dd798df"
      },
      "outputs": [
        {
          "output_type": "stream",
          "name": "stdout",
          "text": [
            "[46.98042909  9.15749164 76.37690617 47.7034283  83.28749913 65.51904401\n",
            " 77.28678924 42.01192211 49.48379933 67.91070409 13.91356525 37.77972821\n",
            " 59.232141   98.69452176 87.32677673 54.13566564 53.35764398  2.87575964\n",
            " 47.88372854 19.12981414]\n",
            "[2369.2529361   477.9602477  3839.74721653 2404.80698802 4184.68865276\n",
            " 3296.01713449 3886.09030603 2121.7802059  2493.35571241 3417.33195404\n",
            "  716.73297542 1908.46843249 2982.08837302 4958.11199122 4387.53998067\n",
            " 2726.7283302  2687.86966057  164.15701812 2416.3872548   978.63509385]\n"
          ]
        }
      ],
      "source": [
        "#generate 20 values with uniform distribution\n",
        "X = np.random.uniform(0, 100, 20)\n",
        "print(X)\n",
        "\n",
        "#calculate Y values\n",
        "Y = 50 * X + 22 + np.random.normal(-1, 1, 20)\n",
        "print(Y)"
      ]
    },
    {
      "cell_type": "markdown",
      "metadata": {
        "id": "tBHpuD-Ki-Od"
      },
      "source": [
        "### Part 2 - Calculate Regression\n",
        "Now that you have the data, calcualate the regression. Show your value for slope and intercept. Do not use an libraries to do it for you.\n",
        "<BR>You have some random variance, so you probably won't get exactly y=50x+22 , but it should round to it."
      ]
    },
    {
      "cell_type": "code",
      "source": [
        "def regression(X, Y):\n",
        "    n = len(X)\n",
        "    mean_X = np.mean(X) #mean\n",
        "    mean_Y = np.mean(Y)\n",
        "    xy = np.sum(Y*X - n*mean_Y*mean_X) #sumof squares\n",
        "    xx = np.sum(X*X - n*mean_X*mean_X)\n",
        "    slope = xy / xx\n",
        "    intercept = mean_Y - slope*mean_X\n",
        "    return slope, intercept\n",
        "\n",
        "slope, intercept = regression(X, Y)\n",
        "print(\"Slope:\", slope)\n",
        "print(\"Intercept:\", intercept)"
      ],
      "metadata": {
        "colab": {
          "base_uri": "https://localhost:8080/"
        },
        "id": "wbvrTamhpWwy",
        "outputId": "168e2a58-7aab-4c78-c838-1ebd1c5ae6b6"
      },
      "execution_count": 3,
      "outputs": [
        {
          "output_type": "stream",
          "name": "stdout",
          "text": [
            "Slope: 50.40445513833841\n",
            "Intercept: -0.2634966672221708\n"
          ]
        }
      ]
    },
    {
      "cell_type": "markdown",
      "metadata": {
        "id": "JCZHqUhni-Oe"
      },
      "source": [
        "### Part 3 - Visualization\n",
        "Create a visualization\n",
        "* Include a scatter plot of the data points\n",
        "* Include the real line for y = 50x +22 in blue\n",
        "* Include the regression line in red (they may overlap, that is ok)"
      ]
    },
    {
      "cell_type": "code",
      "execution_count": 4,
      "metadata": {
        "id": "pcn7igNIi-Of",
        "colab": {
          "base_uri": "https://localhost:8080/",
          "height": 295
        },
        "outputId": "a5390819-d80a-42b8-f783-977f31fb5503"
      },
      "outputs": [
        {
          "output_type": "display_data",
          "data": {
            "text/plain": [
              "<Figure size 432x288 with 1 Axes>"
            ],
            "image/png": "[encoded data removed]"
          },
          "metadata": {
            "needs_background": "light"
          }
        }
      ],
      "source": [
        "import matplotlib.pyplot as plt\n",
        "\n",
        "plt.scatter(X, Y)\n",
        "plt.plot(X, [50 * x + 22 for x in X], color='blue')\n",
        "plt.plot(X, [slope * x + intercept for x in X], color='red')\n",
        "plt.xlabel('X')\n",
        "plt.ylabel('Y')\n",
        "plt.title('Graph Of Our Linear Regression')\n",
        "plt.show()"
      ]
    },
    {
      "cell_type": "markdown",
      "metadata": {
        "id": "o12d7FmNi-Of"
      },
      "source": [
        "### Part 4 - Create an outlier\n",
        "Double the Y value for your 10th data point.\n",
        "Run your regression function again and observe how the equation to the line changes."
      ]
    },
    {
      "cell_type": "code",
      "execution_count": 5,
      "metadata": {
        "id": "MMDwsu0Xi-Og",
        "colab": {
          "base_uri": "https://localhost:8080/"
        },
        "outputId": "0e54988b-c903-4c0c-df77-0eb20693147e"
      },
      "outputs": [
        {
          "output_type": "stream",
          "name": "stdout",
          "text": [
            "Slope: 51.12952916759271\n",
            "Intercept: -2.132414319781219\n"
          ]
        }
      ],
      "source": [
        "#outlier\n",
        "Y[10] = Y[10] * 2\n",
        "\n",
        "def regression(X, Y):\n",
        "    n = len(X)\n",
        "    mean_X = np.mean(X) #mean\n",
        "    mean_Y = np.mean(Y)\n",
        "    xy = np.sum(Y*X - n*mean_Y*mean_X) #sum of squares\n",
        "    xx = np.sum(X*X - n*mean_X*mean_X)\n",
        "    slope = xy / xx\n",
        "    intercept = mean_Y - slope*mean_X\n",
        "    return slope, intercept\n",
        "\n",
        "# Use the function to calculate slope and intercept\n",
        "slope, intercept = regression(X, Y)\n",
        "\n",
        "# Print the results\n",
        "print(\"Slope:\", slope)\n",
        "print(\"Intercept:\", intercept)"
      ]
    },
    {
      "cell_type": "code",
      "source": [
        "import matplotlib.pyplot as plt\n",
        "\n",
        "plt.scatter(X, Y)\n",
        "plt.plot(X, [50*x + 22 for x in X], color='blue')\n",
        "plt.plot(X, [slope*x + intercept for x in X], color='red')\n",
        "plt.xlabel('X')\n",
        "plt.ylabel('Y')\n",
        "plt.title('Graph Of Our Linear Regression')\n",
        "plt.show()"
      ],
      "metadata": {
        "colab": {
          "base_uri": "https://localhost:8080/",
          "height": 295
        },
        "id": "xoCsLCB-VZ_X",
        "outputId": "fc963d07-4c58-495b-ad5e-6f9ee98eb507"
      },
      "execution_count": 6,
      "outputs": [
        {
          "output_type": "display_data",
          "data": {
            "text/plain": [
              "<Figure size 432x288 with 1 Axes>"
            ],
            "image/png": "[encoded data removed]"
          },
          "metadata": {
            "needs_background": "light"
          }
        }
      ]
    },
    {
      "cell_type": "markdown",
      "source": [
        "## Problem 2 (10 points)\n",
        "### Multiple Linear Regresion \n",
        "You have amodeleady demonstrate that you can implement a simple linear regression. Now we will look at a dataset that use multiple variables.\n",
        "I am using data from https://www.kaggle.com/datasets/mirichoi0218/insurance?select=insurance.csv\n",
        "\n",
        "Predict the charges based on the independent variables?\n",
        "Are all the independent variables really independent? What would you do if they weren't?\n",
        "\n",
        "I slightly modified the data to add a bit more fun.\n",
        "If you go to the Kaggle site and click the Code tab, you can see sample notebooks that can help you with this problem. However, remember that I changed some of the data so it is not an exact match.\n",
        "\n",
        "I placed the modified datafile on github and included code to pull the data into a Panda dataframe.\n",
        "\n",
        "Train your model on 90% of the data and use the other 10% for validation. How close are the predictions? Explain how you evaluate closeness.\n",
        "\n",
        "Explain your process for cleaning the data.\n",
        "\n",
        "Try a few different models that do not use all the independent variables. Do some of them perform better than others?  There are techniques to determine the best subset of features to use, but they are out of scope for this class.\n",
        "\n"
      ],
      "metadata": {
        "id": "fOW71pQgjpgn"
      }
    },
    {
      "cell_type": "code",
      "source": [
        "import pandas as pd\n",
        "import numpy as np\n",
        "import matplotlib.pyplot as plt\n",
        "\n",
        "from sklearn.linear_model import LinearRegression\n",
        "from sklearn.model_selection import train_test_split\n",
        "from sklearn.metrics import mean_squared_error\n",
        "from sklearn.metrics import r2_score"
      ],
      "metadata": {
        "id": "dcd6Bxu4VO22"
      },
      "execution_count": 7,
      "outputs": []
    },
    {
      "cell_type": "code",
      "source": [
        "df = pd.read_csv(\"https://raw.githubusercontent.com/willwilson-sdsu/CS550/main/insurance_data_cs450_fa2022.csv\")\n",
        "df.head"
      ],
      "metadata": {
        "id": "Wwu7iXzAVS7Y",
        "colab": {
          "base_uri": "https://localhost:8080/"
        },
        "outputId": "291579f1-c226-4c83-e2bd-a05001140651"
      },
      "execution_count": 8,
      "outputs": [
        {
          "output_type": "execute_result",
          "data": {
            "text/plain": [
              "<bound method NDFrame.head of       age     sex     bmi  children smoker     region      charges\n",
              "0      19  female  27.900         0    yes  southwest    16884.924\n",
              "1      18    male  33.770         1     no  southeast    1725.5523\n",
              "2      28    male  33.000         3     no  southeast     4449.462\n",
              "3      33    male  22.705         0     no  northwest  21984.47061\n",
              "4      32    male  28.880         0     no  northwest    3866.8552\n",
              "...   ...     ...     ...       ...    ...        ...          ...\n",
              "1333   50    male  30.970         3     no  northwest   10600.5483\n",
              "1334   18  female  31.920         0     no  northeast    2205.9808\n",
              "1335   18  female  36.850         0     no  southeast    1629.8335\n",
              "1336   21  female  25.800         0     no  southwest     2007.945\n",
              "1337   61  female  29.070         0    yes  northwest   29141.3603\n",
              "\n",
              "[1338 rows x 7 columns]>"
            ]
          },
          "metadata": {},
          "execution_count": 8
        }
      ]
    },
    {
      "cell_type": "markdown",
      "source": [
        "#### Data Exploration\n",
        "* We don't go into depth on this in this class, so you do not need to provide an in depth exporatory data analysis. You only need to look into the data enough to determine what cleaning and transformations you need to do before creating your model"
      ],
      "metadata": {
        "id": "u76JK5TEUBau"
      }
    },
    {
      "cell_type": "code",
      "source": [
        "df.describe()"
      ],
      "metadata": {
        "id": "DpndkiSOFg0P",
        "colab": {
          "base_uri": "https://localhost:8080/",
          "height": 300
        },
        "outputId": "0ded052d-507e-41e5-bd25-88fe885dbf27"
      },
      "execution_count": 9,
      "outputs": [
        {
          "output_type": "execute_result",
          "data": {
            "text/plain": [
              "               age          bmi     children\n",
              "count  1338.000000  1337.000000  1338.000000\n",
              "mean     39.392377    30.722517     1.094918\n",
              "std      16.060120     6.463766     1.205493\n",
              "min      -8.000000    15.960000     0.000000\n",
              "25%      26.250000    26.315000     0.000000\n",
              "50%      39.000000    30.400000     1.000000\n",
              "75%      51.000000    34.700000     2.000000\n",
              "max     320.000000   109.000000     5.000000"
            ],
            "text/html": [
              "\n",
              "  <div id=\"df-0ce55b33-30eb-467a-a943-156f67655ba4\">\n",
              "    <div class=\"colab-df-container\">\n",
              "      <div>\n",
              "<style scoped>\n",
              "    .dataframe tbody tr th:only-of-type {\n",
              "        vertical-align: middle;\n",
              "    }\n",
              "\n",
              "    .dataframe tbody tr th {\n",
              "        vertical-align: top;\n",
              "    }\n",
              "\n",
              "    .dataframe thead th {\n",
              "        text-align: right;\n",
              "    }\n",
              "</style>\n",
              "<table border=\"1\" class=\"dataframe\">\n",
              "  <thead>\n",
              "    <tr style=\"text-align: right;\">\n",
              "      <th></th>\n",
              "      <th>age</th>\n",
              "      <th>bmi</th>\n",
              "      <th>children</th>\n",
              "    </tr>\n",
              "  </thead>\n",
              "  <tbody>\n",
              "    <tr>\n",
              "      <th>count</th>\n",
              "      <td>1338.000000</td>\n",
              "      <td>1337.000000</td>\n",
              "      <td>1338.000000</td>\n",
              "    </tr>\n",
              "    <tr>\n",
              "      <th>mean</th>\n",
              "      <td>39.392377</td>\n",
              "      <td>30.722517</td>\n",
              "      <td>1.094918</td>\n",
              "    </tr>\n",
              "    <tr>\n",
              "      <th>std</th>\n",
              "      <td>16.060120</td>\n",
              "      <td>6.463766</td>\n",
              "      <td>1.205493</td>\n",
              "    </tr>\n",
              "    <tr>\n",
              "      <th>min</th>\n",
              "      <td>-8.000000</td>\n",
              "      <td>15.960000</td>\n",
              "      <td>0.000000</td>\n",
              "    </tr>\n",
              "    <tr>\n",
              "      <th>25%</th>\n",
              "      <td>26.250000</td>\n",
              "      <td>26.315000</td>\n",
              "      <td>0.000000</td>\n",
              "    </tr>\n",
              "    <tr>\n",
              "      <th>50%</th>\n",
              "      <td>39.000000</td>\n",
              "      <td>30.400000</td>\n",
              "      <td>1.000000</td>\n",
              "    </tr>\n",
              "    <tr>\n",
              "      <th>75%</th>\n",
              "      <td>51.000000</td>\n",
              "      <td>34.700000</td>\n",
              "      <td>2.000000</td>\n",
              "    </tr>\n",
              "    <tr>\n",
              "      <th>max</th>\n",
              "      <td>320.000000</td>\n",
              "      <td>109.000000</td>\n",
              "      <td>5.000000</td>\n",
              "    </tr>\n",
              "  </tbody>\n",
              "</table>\n",
              "</div>\n",
              "      <button class=\"colab-df-convert\" onclick=\"convertToInteractive('df-0ce55b33-30eb-467a-a943-156f67655ba4')\"\n",
              "              title=\"Convert this dataframe to an interactive table.\"\n",
              "              style=\"display:none;\">\n",
              "        \n",
              "  <svg xmlns=\"http://www.w3.org/2000/svg\" height=\"24px\"viewBox=\"0 0 24 24\"\n",
              "       width=\"24px\">\n",
              "    <path d=\"M0 0h24v24H0V0z\" fill=\"none\"/>\n",
              "    <path d=\"M18.56 5.44l.94 2.06.94-2.06 2.06-.94-2.06-.94-.94-2.06-.94 2.06-2.06.94zm-11 1L8.5 8.5l.94-2.06 2.06-.94-2.06-.94L8.5 2.5l-.94 2.06-2.06.94zm10 10l.94 2.06.94-2.06 2.06-.94-2.06-.94-.94-2.06-.94 2.06-2.06.94z\"/><path d=\"M17.41 7.96l-1.37-1.37c-.4-.4-.92-.59-1.43-.59-.52 0-1.04.2-1.43.59L10.3 9.45l-7.72 7.72c-.78.78-.78 2.05 0 2.83L4 21.41c.39.39.9.59 1.41.59.51 0 1.02-.2 1.41-.59l7.78-7.78 2.81-2.81c.8-.78.8-2.07 0-2.86zM5.41 20L4 18.59l7.72-7.72 1.47 1.35L5.41 20z\"/>\n",
              "  </svg>\n",
              "      </button>\n",
              "      \n",
              "  <style>\n",
              "    .colab-df-container {\n",
              "      display:flex;\n",
              "      flex-wrap:wrap;\n",
              "      gap: 12px;\n",
              "    }\n",
              "\n",
              "    .colab-df-convert {\n",
              "      background-color: #E8F0FE;\n",
              "      border: none;\n",
              "      border-radius: 50%;\n",
              "      cursor: pointer;\n",
              "      display: none;\n",
              "      fill: #1967D2;\n",
              "      height: 32px;\n",
              "      padding: 0 0 0 0;\n",
              "      width: 32px;\n",
              "    }\n",
              "\n",
              "    .colab-df-convert:hover {\n",
              "      background-color: #E2EBFA;\n",
              "      box-shadow: 0px 1px 2px rgba(60, 64, 67, 0.3), 0px 1px 3px 1px rgba(60, 64, 67, 0.15);\n",
              "      fill: #174EA6;\n",
              "    }\n",
              "\n",
              "    [theme=dark] .colab-df-convert {\n",
              "      background-color: #3B4455;\n",
              "      fill: #D2E3FC;\n",
              "    }\n",
              "\n",
              "    [theme=dark] .colab-df-convert:hover {\n",
              "      background-color: #434B5C;\n",
              "      box-shadow: 0px 1px 3px 1px rgba(0, 0, 0, 0.15);\n",
              "      filter: drop-shadow(0px 1px 2px rgba(0, 0, 0, 0.3));\n",
              "      fill: #FFFFFF;\n",
              "    }\n",
              "  </style>\n",
              "\n",
              "      <script>\n",
              "        const buttonEl =\n",
              "          document.querySelector('#df-0ce55b33-30eb-467a-a943-156f67655ba4 button.colab-df-convert');\n",
              "        buttonEl.style.display =\n",
              "          google.colab.kernel.accessAllowed ? 'block' : 'none';\n",
              "\n",
              "        async function convertToInteractive(key) {\n",
              "          const element = document.querySelector('#df-0ce55b33-30eb-467a-a943-156f67655ba4');\n",
              "          const dataTable =\n",
              "            await google.colab.kernel.invokeFunction('convertToInteractive',\n",
              "                                                     [key], {});\n",
              "          if (!dataTable) return;\n",
              "\n",
              "          const docLinkHtml = 'Like what you see? Visit the ' +\n",
              "            '<a target=\"_blank\" href=https://colab.research.google.com/notebooks/data_table.ipynb>data table notebook</a>'\n",
              "            + ' to learn more about interactive tables.';\n",
              "          element.innerHTML = '';\n",
              "          dataTable['output_type'] = 'display_data';\n",
              "          await google.colab.output.renderOutput(dataTable, element);\n",
              "          const docLink = document.createElement('div');\n",
              "          docLink.innerHTML = docLinkHtml;\n",
              "          element.appendChild(docLink);\n",
              "        }\n",
              "      </script>\n",
              "    </div>\n",
              "  </div>\n",
              "  "
            ]
          },
          "metadata": {},
          "execution_count": 9
        }
      ]
    },
    {
      "cell_type": "code",
      "source": [
        "df.isnull().sum()"
      ],
      "metadata": {
        "id": "Fkeey8dbzWAB",
        "colab": {
          "base_uri": "https://localhost:8080/"
        },
        "outputId": "008785ab-7afe-4945-b9a2-3bf0bc3361fd"
      },
      "execution_count": 10,
      "outputs": [
        {
          "output_type": "execute_result",
          "data": {
            "text/plain": [
              "age         0\n",
              "sex         0\n",
              "bmi         1\n",
              "children    0\n",
              "smoker      1\n",
              "region      0\n",
              "charges     0\n",
              "dtype: int64"
            ]
          },
          "metadata": {},
          "execution_count": 10
        }
      ]
    },
    {
      "cell_type": "markdown",
      "source": [
        "\\#### What did you determine from your exploration?\n",
        "\n",
        "**EXPLAIN IN THIS BOX**\n",
        "*   There is a missing data\n",
        "*   There are null data\n",
        "*   There are ages that are impossible because you can't be a negative age or 320 years old\n",
        "*   There are categorical data\n",
        "\n",
        "\n"
      ],
      "metadata": {
        "id": "GpPmR-L1UHI2"
      }
    },
    {
      "cell_type": "markdown",
      "source": [
        "### Data Cleaning"
      ],
      "metadata": {
        "id": "eYfMgQ_NUWj9"
      }
    },
    {
      "cell_type": "code",
      "source": [
        "#drop negative ages\n",
        "df = df[(df.age > 0)] \n",
        "\n",
        "#drop ages that are too old\n",
        "df = df[(df.age < 122)]\n",
        "\n",
        "#drop categorical\n",
        "df = df[ (df.charges != 'na') & (df.charges != 'unknown') ] \n",
        "\n",
        "# Replacing infinite with nan\n",
        "df.replace([np.inf, -np.inf], np.nan)\n",
        "\n",
        "#drop all nan\n",
        "df = df.dropna() \n",
        "\n",
        "#change charges to numerical data\n",
        "df['charges'] = pd.to_numeric(df['charges'])\n",
        "\n",
        "#change categorical data to numeric\n",
        "df['sex'] = df['sex'].astype('category')\n",
        "df['sex'] = df['sex'].cat.codes\n",
        "\n",
        "df['smoker'] = df['smoker'].astype('category')\n",
        "df['smoker'] = df['smoker'].cat.codes\n",
        "\n",
        "df['region'] = df['region'].astype('category')\n",
        "df['region'] = df['region'].cat.codes\n",
        "\n",
        "df"
      ],
      "metadata": {
        "id": "MwMtwW_Fz665",
        "colab": {
          "base_uri": "https://localhost:8080/",
          "height": 423
        },
        "outputId": "df6f8e8e-cc6b-4ba3-fdbd-df2651fd8976"
      },
      "execution_count": 11,
      "outputs": [
        {
          "output_type": "execute_result",
          "data": {
            "text/plain": [
              "      age  sex     bmi  children  smoker  region      charges\n",
              "0      19    0  27.900         0       1       4  16884.92400\n",
              "1      18    1  33.770         1       0       3   1725.55230\n",
              "2      28    1  33.000         3       0       3   4449.46200\n",
              "3      33    1  22.705         0       0       1  21984.47061\n",
              "4      32    1  28.880         0       0       1   3866.85520\n",
              "...   ...  ...     ...       ...     ...     ...          ...\n",
              "1333   50    1  30.970         3       0       1  10600.54830\n",
              "1334   18    0  31.920         0       0       0   2205.98080\n",
              "1335   18    0  36.850         0       0       3   1629.83350\n",
              "1336   21    0  25.800         0       0       4   2007.94500\n",
              "1337   61    0  29.070         0       1       1  29141.36030\n",
              "\n",
              "[1331 rows x 7 columns]"
            ],
            "text/html": [
              "\n",
              "  <div id=\"df-133aee23-bd47-495a-bdc4-f134ce8f20a1\">\n",
              "    <div class=\"colab-df-container\">\n",
              "      <div>\n",
              "<style scoped>\n",
              "    .dataframe tbody tr th:only-of-type {\n",
              "        vertical-align: middle;\n",
              "    }\n",
              "\n",
              "    .dataframe tbody tr th {\n",
              "        vertical-align: top;\n",
              "    }\n",
              "\n",
              "    .dataframe thead th {\n",
              "        text-align: right;\n",
              "    }\n",
              "</style>\n",
              "<table border=\"1\" class=\"dataframe\">\n",
              "  <thead>\n",
              "    <tr style=\"text-align: right;\">\n",
              "      <th></th>\n",
              "      <th>age</th>\n",
              "      <th>sex</th>\n",
              "      <th>bmi</th>\n",
              "      <th>children</th>\n",
              "      <th>smoker</th>\n",
              "      <th>region</th>\n",
              "      <th>charges</th>\n",
              "    </tr>\n",
              "  </thead>\n",
              "  <tbody>\n",
              "    <tr>\n",
              "      <th>0</th>\n",
              "      <td>19</td>\n",
              "      <td>0</td>\n",
              "      <td>27.900</td>\n",
              "      <td>0</td>\n",
              "      <td>1</td>\n",
              "      <td>4</td>\n",
              "      <td>16884.92400</td>\n",
              "    </tr>\n",
              "    <tr>\n",
              "      <th>1</th>\n",
              "      <td>18</td>\n",
              "      <td>1</td>\n",
              "      <td>33.770</td>\n",
              "      <td>1</td>\n",
              "      <td>0</td>\n",
              "      <td>3</td>\n",
              "      <td>1725.55230</td>\n",
              "    </tr>\n",
              "    <tr>\n",
              "      <th>2</th>\n",
              "      <td>28</td>\n",
              "      <td>1</td>\n",
              "      <td>33.000</td>\n",
              "      <td>3</td>\n",
              "      <td>0</td>\n",
              "      <td>3</td>\n",
              "      <td>4449.46200</td>\n",
              "    </tr>\n",
              "    <tr>\n",
              "      <th>3</th>\n",
              "      <td>33</td>\n",
              "      <td>1</td>\n",
              "      <td>22.705</td>\n",
              "      <td>0</td>\n",
              "      <td>0</td>\n",
              "      <td>1</td>\n",
              "      <td>21984.47061</td>\n",
              "    </tr>\n",
              "    <tr>\n",
              "      <th>4</th>\n",
              "      <td>32</td>\n",
              "      <td>1</td>\n",
              "      <td>28.880</td>\n",
              "      <td>0</td>\n",
              "      <td>0</td>\n",
              "      <td>1</td>\n",
              "      <td>3866.85520</td>\n",
              "    </tr>\n",
              "    <tr>\n",
              "      <th>...</th>\n",
              "      <td>...</td>\n",
              "      <td>...</td>\n",
              "      <td>...</td>\n",
              "      <td>...</td>\n",
              "      <td>...</td>\n",
              "      <td>...</td>\n",
              "      <td>...</td>\n",
              "    </tr>\n",
              "    <tr>\n",
              "      <th>1333</th>\n",
              "      <td>50</td>\n",
              "      <td>1</td>\n",
              "      <td>30.970</td>\n",
              "      <td>3</td>\n",
              "      <td>0</td>\n",
              "      <td>1</td>\n",
              "      <td>10600.54830</td>\n",
              "    </tr>\n",
              "    <tr>\n",
              "      <th>1334</th>\n",
              "      <td>18</td>\n",
              "      <td>0</td>\n",
              "      <td>31.920</td>\n",
              "      <td>0</td>\n",
              "      <td>0</td>\n",
              "      <td>0</td>\n",
              "      <td>2205.98080</td>\n",
              "    </tr>\n",
              "    <tr>\n",
              "      <th>1335</th>\n",
              "      <td>18</td>\n",
              "      <td>0</td>\n",
              "      <td>36.850</td>\n",
              "      <td>0</td>\n",
              "      <td>0</td>\n",
              "      <td>3</td>\n",
              "      <td>1629.83350</td>\n",
              "    </tr>\n",
              "    <tr>\n",
              "      <th>1336</th>\n",
              "      <td>21</td>\n",
              "      <td>0</td>\n",
              "      <td>25.800</td>\n",
              "      <td>0</td>\n",
              "      <td>0</td>\n",
              "      <td>4</td>\n",
              "      <td>2007.94500</td>\n",
              "    </tr>\n",
              "    <tr>\n",
              "      <th>1337</th>\n",
              "      <td>61</td>\n",
              "      <td>0</td>\n",
              "      <td>29.070</td>\n",
              "      <td>0</td>\n",
              "      <td>1</td>\n",
              "      <td>1</td>\n",
              "      <td>29141.36030</td>\n",
              "    </tr>\n",
              "  </tbody>\n",
              "</table>\n",
              "<p>1331 rows × 7 columns</p>\n",
              "</div>\n",
              "      <button class=\"colab-df-convert\" onclick=\"convertToInteractive('df-133aee23-bd47-495a-bdc4-f134ce8f20a1')\"\n",
              "              title=\"Convert this dataframe to an interactive table.\"\n",
              "              style=\"display:none;\">\n",
              "        \n",
              "  <svg xmlns=\"http://www.w3.org/2000/svg\" height=\"24px\"viewBox=\"0 0 24 24\"\n",
              "       width=\"24px\">\n",
              "    <path d=\"M0 0h24v24H0V0z\" fill=\"none\"/>\n",
              "    <path d=\"M18.56 5.44l.94 2.06.94-2.06 2.06-.94-2.06-.94-.94-2.06-.94 2.06-2.06.94zm-11 1L8.5 8.5l.94-2.06 2.06-.94-2.06-.94L8.5 2.5l-.94 2.06-2.06.94zm10 10l.94 2.06.94-2.06 2.06-.94-2.06-.94-.94-2.06-.94 2.06-2.06.94z\"/><path d=\"M17.41 7.96l-1.37-1.37c-.4-.4-.92-.59-1.43-.59-.52 0-1.04.2-1.43.59L10.3 9.45l-7.72 7.72c-.78.78-.78 2.05 0 2.83L4 21.41c.39.39.9.59 1.41.59.51 0 1.02-.2 1.41-.59l7.78-7.78 2.81-2.81c.8-.78.8-2.07 0-2.86zM5.41 20L4 18.59l7.72-7.72 1.47 1.35L5.41 20z\"/>\n",
              "  </svg>\n",
              "      </button>\n",
              "      \n",
              "  <style>\n",
              "    .colab-df-container {\n",
              "      display:flex;\n",
              "      flex-wrap:wrap;\n",
              "      gap: 12px;\n",
              "    }\n",
              "\n",
              "    .colab-df-convert {\n",
              "      background-color: #E8F0FE;\n",
              "      border: none;\n",
              "      border-radius: 50%;\n",
              "      cursor: pointer;\n",
              "      display: none;\n",
              "      fill: #1967D2;\n",
              "      height: 32px;\n",
              "      padding: 0 0 0 0;\n",
              "      width: 32px;\n",
              "    }\n",
              "\n",
              "    .colab-df-convert:hover {\n",
              "      background-color: #E2EBFA;\n",
              "      box-shadow: 0px 1px 2px rgba(60, 64, 67, 0.3), 0px 1px 3px 1px rgba(60, 64, 67, 0.15);\n",
              "      fill: #174EA6;\n",
              "    }\n",
              "\n",
              "    [theme=dark] .colab-df-convert {\n",
              "      background-color: #3B4455;\n",
              "      fill: #D2E3FC;\n",
              "    }\n",
              "\n",
              "    [theme=dark] .colab-df-convert:hover {\n",
              "      background-color: #434B5C;\n",
              "      box-shadow: 0px 1px 3px 1px rgba(0, 0, 0, 0.15);\n",
              "      filter: drop-shadow(0px 1px 2px rgba(0, 0, 0, 0.3));\n",
              "      fill: #FFFFFF;\n",
              "    }\n",
              "  </style>\n",
              "\n",
              "      <script>\n",
              "        const buttonEl =\n",
              "          document.querySelector('#df-133aee23-bd47-495a-bdc4-f134ce8f20a1 button.colab-df-convert');\n",
              "        buttonEl.style.display =\n",
              "          google.colab.kernel.accessAllowed ? 'block' : 'none';\n",
              "\n",
              "        async function convertToInteractive(key) {\n",
              "          const element = document.querySelector('#df-133aee23-bd47-495a-bdc4-f134ce8f20a1');\n",
              "          const dataTable =\n",
              "            await google.colab.kernel.invokeFunction('convertToInteractive',\n",
              "                                                     [key], {});\n",
              "          if (!dataTable) return;\n",
              "\n",
              "          const docLinkHtml = 'Like what you see? Visit the ' +\n",
              "            '<a target=\"_blank\" href=https://colab.research.google.com/notebooks/data_table.ipynb>data table notebook</a>'\n",
              "            + ' to learn more about interactive tables.';\n",
              "          element.innerHTML = '';\n",
              "          dataTable['output_type'] = 'display_data';\n",
              "          await google.colab.output.renderOutput(dataTable, element);\n",
              "          const docLink = document.createElement('div');\n",
              "          docLink.innerHTML = docLinkHtml;\n",
              "          element.appendChild(docLink);\n",
              "        }\n",
              "      </script>\n",
              "    </div>\n",
              "  </div>\n",
              "  "
            ]
          },
          "metadata": {},
          "execution_count": 11
        }
      ]
    },
    {
      "cell_type": "markdown",
      "source": [
        "#### Model Generation"
      ],
      "metadata": {
        "id": "DPT3rG7KUNMv"
      }
    },
    {
      "cell_type": "code",
      "source": [
        "X = df.drop(columns = 'charges')\n",
        "y = df['charges']\n",
        "\n",
        "#Train using 90% of the data\n",
        "X_train, X_test, y_train, y_test = train_test_split(X, y, test_size = 0.9, random_state = 0)\n",
        "\n",
        "#Train the model\n",
        "model = LinearRegression()\n",
        "model.fit(X_train, y_train)\n",
        "\n",
        "c = model.intercept_\n",
        "m = model.coef_\n",
        "print(c)\n",
        "print(m)\n",
        "\n",
        "y_pred_train = model.predict(X_train)"
      ],
      "metadata": {
        "id": "XThVoZoxz50B",
        "colab": {
          "base_uri": "https://localhost:8080/"
        },
        "outputId": "d7414adc-bd10-4fd1-c2c2-1c8a98173004"
      },
      "execution_count": 12,
      "outputs": [
        {
          "output_type": "stream",
          "name": "stdout",
          "text": [
            "-12160.500377422804\n",
            "[  248.01868117  2454.7544692    292.63468797   425.9237022\n",
            " 25774.37056134   -71.0964726 ]\n"
          ]
        }
      ]
    },
    {
      "cell_type": "code",
      "source": [
        "plt.scatter(y_train, y_pred_train)\n",
        "plt.xlabel(\"Actual Charges\")\n",
        "plt.ylabel(\"Predicted Charges\")\n",
        "plt.show()\n",
        "\n",
        "#Evaluate the model using r2 score\n",
        "from sklearn.metrics import r2_score\n",
        "r2 = r2_score(y_train, y_pred_train)\n",
        "print('r2:', r2)"
      ],
      "metadata": {
        "id": "gWTitKqE3jYK",
        "colab": {
          "base_uri": "https://localhost:8080/",
          "height": 296
        },
        "outputId": "41d11bd4-a0d0-4107-de54-2ac11a7d1e24"
      },
      "execution_count": 13,
      "outputs": [
        {
          "output_type": "display_data",
          "data": {
            "text/plain": [
              "<Figure size 432x288 with 1 Axes>"
            ],
            "image/png": "[encoded data removed]"
          },
          "metadata": {
            "needs_background": "light"
          }
        },
        {
          "output_type": "stream",
          "name": "stdout",
          "text": [
            "r2: 0.7501005482197025\n"
          ]
        }
      ]
    },
    {
      "cell_type": "code",
      "source": [
        "y_pred_test = model.predict(X_test)\n",
        "\n",
        "plt.scatter(y_test, y_pred_test)\n",
        "plt.xlabel(\"Actual Charges\")\n",
        "plt.ylabel(\"Predicted Charges\")\n",
        "plt.show()\n",
        "\n",
        "r2 = r2_score(y_test, y_pred_test)\n",
        "print('r2:', r2)"
      ],
      "metadata": {
        "id": "pneoEXxo2qZK",
        "colab": {
          "base_uri": "https://localhost:8080/",
          "height": 296
        },
        "outputId": "4a55a0a6-f3d0-46a5-9410-1d41160c2bf2"
      },
      "execution_count": 14,
      "outputs": [
        {
          "output_type": "display_data",
          "data": {
            "text/plain": [
              "<Figure size 432x288 with 1 Axes>"
            ],
            "image/png": "[encoded data removed]"
          },
          "metadata": {
            "needs_background": "light"
          }
        },
        {
          "output_type": "stream",
          "name": "stdout",
          "text": [
            "r2: 0.7259762463878081\n"
          ]
        }
      ]
    },
    {
      "cell_type": "markdown",
      "source": [
        "### Model Analysis\n",
        "\n",
        "Explain your model and how you could improve it"
      ],
      "metadata": {
        "id": "2TxF_jbCURd-"
      }
    },
    {
      "cell_type": "markdown",
      "source": [
        "My r squared value from my prediction is at a 72.6% fit compared to the actual data using the same model it is a 75% fit. Anything above a 70% is generally seen as the better the regression model fits your observations. My model could be improved if I performed transformations onto the data because the data right skewed to turn it into a normal shape. Also as seen in the graph of actual vs predicted charge, the plot is curved so linear assumption fails."
      ],
      "metadata": {
        "id": "B8yfbmZdUZ0d"
      }
    }
  ],
  "metadata": {
    "celltoolbar": "Edit Metadata",
    "kernelspec": {
      "display_name": "Python 3 (ipykernel)",
      "language": "python",
      "name": "python3"
    },
    "language_info": {
      "codemirror_mode": {
        "name": "ipython",
        "version": 3
      },
      "file_extension": ".py",
      "mimetype": "text/x-python",
      "name": "python",
      "nbconvert_exporter": "python",
      "pygments_lexer": "ipython3",
      "version": "3.7.3"
    },
    "colab": {
      "provenance": []
    }
  },
  "nbformat": 4,
  "nbformat_minor": 0
}